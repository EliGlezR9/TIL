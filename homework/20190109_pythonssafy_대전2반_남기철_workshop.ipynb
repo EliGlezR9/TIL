{
 "cells": [
  {
   "cell_type": "code",
   "execution_count": 1,
   "metadata": {},
   "outputs": [
    {
     "ename": "SyntaxError",
     "evalue": "invalid syntax (<ipython-input-1-2dd79ad3cfbf>, line 7)",
     "output_type": "error",
     "traceback": [
      "\u001b[1;36m  File \u001b[1;32m\"<ipython-input-1-2dd79ad3cfbf>\"\u001b[1;36m, line \u001b[1;32m7\u001b[0m\n\u001b[1;33m    while\u001b[0m\n\u001b[1;37m          ^\u001b[0m\n\u001b[1;31mSyntaxError\u001b[0m\u001b[1;31m:\u001b[0m invalid syntax\n"
     ]
    }
   ],
   "source": [
    "def root_float(n):\n",
    "    \n",
    "    \n",
    "    if n == x**2:\n",
    "        return x\n",
    "    else:\n",
    "        while \n",
    "        n < x**2 => x-1 < n < x"
   ]
  },
  {
   "cell_type": "code",
   "execution_count": 2,
   "metadata": {},
   "outputs": [
    {
     "name": "stdout",
     "output_type": "stream",
     "text": [
      "1.414213562373094\n"
     ]
    }
   ],
   "source": [
    "def my_sqrt(num):\n",
    "    a = 0\n",
    "    b = 2*num\n",
    "    \n",
    "    for i in range(50):\n",
    "        c = ((a+b)/2)\n",
    "        if c**2 > num:\n",
    "            b = c\n",
    "        else:\n",
    "            a = c\n",
    "    return (a+b) /2\n",
    "print(my_sqrt(2))"
   ]
  }
 ],
 "metadata": {
  "kernelspec": {
   "display_name": "Python 3",
   "language": "python",
   "name": "python3"
  },
  "language_info": {
   "codemirror_mode": {
    "name": "ipython",
    "version": 3
   },
   "file_extension": ".py",
   "mimetype": "text/x-python",
   "name": "python",
   "nbconvert_exporter": "python",
   "pygments_lexer": "ipython3",
   "version": "3.6.7"
  }
 },
 "nbformat": 4,
 "nbformat_minor": 2
}

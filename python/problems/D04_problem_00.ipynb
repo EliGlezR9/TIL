{
 "cells": [
  {
   "cell_type": "markdown",
   "metadata": {},
   "source": [
    "## 최대공약수, 최소공배수 구하기\n",
    "\n",
    "> 두 수를 입력받아 두 수의 최대공약수와 최소공배수를 반환하는 함수, gcdlcm을 완성해 보세요.\n",
    ">\n",
    "> 배열의 맨 앞에 최대공약수, 그다음 최소공배수를 넣어 반환하면 됩니다. \n",
    ">\n",
    "> 예를 들어 두 수 3, 12의 최대공약수는 3, 최소공배수는 12이므로 `gcdlcm(3, 12)`는 `[3, 12]`를 반환해야 합니다. \n",
    "\n",
    "예시)\n",
    "\n",
    "```python\n",
    "gcdlcm(3, 12) #=> [3, 12]\n",
    "gcdlcm(1071, 1029) #=> [21, 52479]\n",
    "```"
   ]
  },
  {
   "cell_type": "code",
   "execution_count": 58,
   "metadata": {},
   "outputs": [
    {
     "name": "stdout",
     "output_type": "stream",
     "text": [
      "[3, 12]\n",
      "[21, 52479]\n"
     ]
    }
   ],
   "source": [
    "# 여기에 코드를 작성하세요.\n",
    "# 내가 한거\n",
    "def gcdlcm(a, b):\n",
    "    aa = []\n",
    "    for c in range(1, (min(a,b)) + 1):\n",
    "        if a % c == 0 and b % c == 0:\n",
    "            aa.append(c)\n",
    "    csgbs = a * b / max(aa)\n",
    "    return [max(aa), int(csgbs)]\n",
    "\n",
    "\n",
    "print(gcdlcm(3, 12))\n",
    "print(gcdlcm(1071, 1029))\n",
    "\n",
    "list(range(1, 5))\n",
    "\n",
    "\n",
    "\n",
    "a = [1, 2, 3, 4]\n",
    "b = [3, 4, 5, 6]\n",
    "set_a = set(a)\n",
    "set_b = set(b)\n",
    "\n",
    "##강사님꺼\n",
    "# def gcdlcm(n, m):\n",
    "#     a, b = max(n, m), min(n, m)\n",
    "#     while b > 0:\n",
    "#         a, b = b, a % b\n",
    "#     return [a, int(n*m / a)]\n",
    "# print(gcdlcm(3, 12))\n",
    "# print(gcdlcm(1071, 1029))"
   ]
  },
  {
   "cell_type": "code",
   "execution_count": null,
   "metadata": {},
   "outputs": [],
   "source": [
    "print(gcdlcm(3, 12))\n",
    "print(gcdlcm(1071, 1029))"
   ]
  },
  {
   "cell_type": "markdown",
   "metadata": {},
   "source": [
    "## URL 편하게 만들기\n",
    "\n",
    "> url 패턴을 만들어 문자열을 반환하는 `my_url` 함수를 만들어봅시다.\n",
    ">\n",
    "> 영진위에서 제공하는 일별 박스오피스 API 서비스는 다음과 같은 방식으로 요청을 받습니다.\n",
    "\n",
    "```\n",
    "기본 요청 URL : http://www.kobis.or.kr/kobisopenapi/webservice/rest/boxoffice/searchDailyBoxOfficeList.json?\n",
    "```\n",
    "\n",
    "* key : 발급받은 키값(abc)\n",
    "* targetDt : yyyymmdd\n",
    "* itemPerPage : 1 ~ 10 **기본 10**\n",
    "---\n",
    "\n",
    "예시)\n",
    "```python\n",
    "api = {\n",
    "    'key': 'abc',\n",
    "    'targetDt': 'yyyymmdd'\n",
    "}\n",
    "my_url(**api)\n",
    "```\n",
    "\n",
    "예시 출력)\n",
    "```python\n",
    "'http://www.kobis.or.kr/kobisopenapi/webservice/rest/boxoffice/searchDailyBoxOfficeList.json?itemPerPage=10&key=abc&targetDt=yyyymmdd&'\n",
    "```"
   ]
  },
  {
   "cell_type": "code",
   "execution_count": 96,
   "metadata": {},
   "outputs": [
    {
     "data": {
      "text/plain": [
       "'http://www.kobis.or.kr/kobisopenapi/webservice/rest/boxoffice/searchDailyBoxOfficeList.json?itemPerPage=10&key=430156241533f1d058c603178cc3ca0e&targetDt=20190101&'"
      ]
     },
     "execution_count": 96,
     "metadata": {},
     "output_type": "execute_result"
    }
   ],
   "source": [
    "# 여기에 코드를 작성해주세요.\n",
    "def my_url(itemPerPage=10, **args):\n",
    "    base_url = 'http://www.kobis.or.kr/kobisopenapi/webservice/rest/boxoffice/searchDailyBoxOfficeList.json?'\n",
    "    base_url += f'itemPerPage={itemPerPage}&'\n",
    "    \n",
    "    for key, value in args.items():\n",
    "        base_url += f'{key}={value}&'\n",
    "    return base_url\n",
    "    \n",
    "    \n",
    "api = {\n",
    "    'key': '430156241533f1d058c603178cc3ca0e',\n",
    "    'targetDt': '20190101'\n",
    "}    \n",
    "my_url(**api)\n",
    "  \n",
    "     \n",
    "    \n",
    "    \n",
    "    \n",
    "#     return url+ f'&{i[0]}={j[0]}&{i[1]}={j[1]}' \n",
    "\n",
    "\n",
    "# api = {\n",
    "#     'key': 'abc',\n",
    "#     'targetDt': 'yyyymmdd'\n",
    "# }\n",
    "\n",
    "# my_url(10, **api)\n"
   ]
  },
  {
   "cell_type": "markdown",
   "metadata": {},
   "source": [
    "## URL 검증하기\n",
    "\n",
    "> 이제 우리는 만들어진 요청 보내기전에 URL을 검증해야합니다. \n",
    ">\n",
    "> 앞선 설명을 참고하여 검증 로직을 구현하고 문자열을 반환하세요.\n",
    "\n",
    "```\n",
    "> 아래의 두가지 상황만 만들도록 하겠습니다. <\n",
    "\n",
    "1. key, targetDt가 없으면, '필수 요청변수가 누락되었습니다.'\n",
    "\n",
    "2. itemPerPage의 범위가 1~10을 넘어가면, '1~10까지의 값을 넣어주세요.'\n",
    "```"
   ]
  },
  {
   "cell_type": "code",
   "execution_count": 162,
   "metadata": {},
   "outputs": [
    {
     "name": "stdout",
     "output_type": "stream",
     "text": [
      "http://www.kobis.or.kr/kobisopenapi/webservice/rest/boxoffice/searchDailyBoxOfficeList.json?itemPerPage=10&key=430156241533f1d058c603178cc3ca0e&targetDt=20190101&\n"
     ]
    }
   ],
   "source": [
    "# 여기에 코드를 작성해주세요.\n",
    "def my_url(itemPerPage=10, **args):\n",
    "    base_url = 'http://www.kobis.or.kr/kobisopenapi/webservice/rest/boxoffice/searchDailyBoxOfficeList.json?'\n",
    "    base_url += f'itemPerPage={itemPerPage}&'\n",
    "       \n",
    "    if 'key' not in args.keys() or 'targetDt' not in args.keys():\n",
    "        return '필수 요청변수가 누락되었습니다.'\n",
    "    elif itemPerPage > 10:\n",
    "        return '1~10까지의 값을 넣어주세요'\n",
    "    else:\n",
    "        for key, value in args.items():\n",
    "            base_url += f'{key}={value}&'\n",
    "        return base_url\n",
    "\n",
    "api = {\n",
    "    'key': '430156241533f1d058c603178cc3ca0e',\n",
    "    'targetDt': '20190101'\n",
    "}            \n",
    "\n",
    "\n",
    "\n",
    "print(my_url(**api))\n",
    "# my_url(15, **api)"
   ]
  },
  {
   "cell_type": "code",
   "execution_count": 163,
   "metadata": {},
   "outputs": [],
   "source": [
    "def teacher_url(itemPerPage=10, **args):\n",
    "    if ('key' not in args or 'targetDt' not in args) and int(itemPerPage) not in range(1,11):\n",
    "        return '필수 요청변수가 누락되었으며, 1~10까지의 값을 넣어주세요.'\n",
    "    elif 'key' not in args or 'targetDt' not in args:\n",
    "        return '필수 요청변수가 누락되었습니다.'\n",
    "    elif int(itemPerPage) not in range(1,11):\n",
    "        return '1~10까지의 값을 넣어주세요.'\n",
    "    else:\n",
    "        base_url = 'http://www.kobis.or.kr/kobisopenapi/webservice/rest/boxoffice/searchDailyBoxOfficeList.json?'\n",
    "        base_url += f'itemPerPage={itemPerPage}&'\n",
    "       \n",
    "        if 'key' not in args.keys() or 'targetDt' not in args.keys():\n",
    "            return '필수 요청변수가 누락되었습니다.'\n",
    "        elif itemPerPage > 10:\n",
    "            return '1~10까지의 값을 넣어주세요'\n",
    "        else:\n",
    "            for key, value in args.items():\n",
    "                base_url += f'{key}={value}&'\n",
    "            return base_url\n",
    "        "
   ]
  },
  {
   "cell_type": "code",
   "execution_count": 167,
   "metadata": {},
   "outputs": [
    {
     "name": "stdout",
     "output_type": "stream",
     "text": [
      "http://www.kobis.or.kr/kobisopenapi/webservice/rest/boxoffice/searchDailyBoxOfficeList.json?itemPerPage=10&key=430156241533f1d058c603178cc3ca0e&targetDt=20190101&\n"
     ]
    },
    {
     "data": {
      "text/plain": [
       "'1~10까지의 값을 넣어주세요.'"
      ]
     },
     "execution_count": 167,
     "metadata": {},
     "output_type": "execute_result"
    }
   ],
   "source": [
    "api = {\n",
    "    'key': '430156241533f1d058c603178cc3ca0e',\n",
    "    'targetDt': '20190101'\n",
    "}            \n",
    "\n",
    "print(teacher_url(**api))\n",
    "teacher_url(15, **api)"
   ]
  },
  {
   "cell_type": "code",
   "execution_count": 174,
   "metadata": {},
   "outputs": [],
   "source": [
    "#함수에서 print와 return 차이\n",
    "def return_test():\n",
    "    return '대전2반'\n",
    "def print_test():\n",
    "    print('대전2반')\n",
    "    #return None  이 생략 되어 있는것"
   ]
  },
  {
   "cell_type": "code",
   "execution_count": 172,
   "metadata": {},
   "outputs": [
    {
     "name": "stdout",
     "output_type": "stream",
     "text": [
      "우리는 대전2반입니다.\n"
     ]
    }
   ],
   "source": [
    "print(f'우리는 {return_test()}입니다.')"
   ]
  },
  {
   "cell_type": "code",
   "execution_count": 173,
   "metadata": {},
   "outputs": [
    {
     "name": "stdout",
     "output_type": "stream",
     "text": [
      "대전2반\n",
      "우리는 None입니다.\n"
     ]
    }
   ],
   "source": [
    "print(f'우리는 {print_test()}입니다.')"
   ]
  },
  {
   "cell_type": "markdown",
   "metadata": {},
   "source": [
    "### 단축평가"
   ]
  },
  {
   "cell_type": "code",
   "execution_count": null,
   "metadata": {},
   "outputs": [],
   "source": [
    "if 'key' not in args or 'targetDt' not in args:\n",
    "    #길더라도 길게만 가능"
   ]
  },
  {
   "cell_type": "code",
   "execution_count": null,
   "metadata": {},
   "outputs": [],
   "source": [
    "if ('key' or 'targetDt') not in args:\n",
    "    #는 양축평가때매 안됨\n",
    "    #앞에꺼만 확인하고 넘어가버림\n",
    "    ('key'and'targetDt) 하면\n",
    "#      앞에꺼가 아니어도 뒤에꺼가 맞으면 또 된다고함 반대도"
   ]
  },
  {
   "cell_type": "code",
   "execution_count": null,
   "metadata": {},
   "outputs": [],
   "source": [
    "vowel = 'aeiou'"
   ]
  },
  {
   "cell_type": "code",
   "execution_count": null,
   "metadata": {},
   "outputs": [],
   "source": []
  }
 ],
 "metadata": {
  "kernelspec": {
   "display_name": "Python 3",
   "language": "python",
   "name": "python3"
  },
  "language_info": {
   "codemirror_mode": {
    "name": "ipython",
    "version": 3
   },
   "file_extension": ".py",
   "mimetype": "text/x-python",
   "name": "python",
   "nbconvert_exporter": "python",
   "pygments_lexer": "ipython3",
   "version": "3.6.7"
  },
  "toc": {
   "base_numbering": 1,
   "nav_menu": {},
   "number_sections": true,
   "sideBar": true,
   "skip_h1_title": false,
   "title_cell": "Table of Contents",
   "title_sidebar": "Contents",
   "toc_cell": false,
   "toc_position": {},
   "toc_section_display": true,
   "toc_window_display": false
  }
 },
 "nbformat": 4,
 "nbformat_minor": 2
}

{
 "cells": [
  {
   "cell_type": "markdown",
   "metadata": {},
   "source": [
    "# 소대소대\n",
    "\n",
    "> 단어의 짝수번째 알파벳은 대문자로, 홀수번째 알파벳은 소문자로 바꾼 문자열을 return 하는 함수 `up_and_low`을 작성하세요.\n",
    "\n",
    "예시)\n",
    "```python\n",
    "up_and_low('applepie') #=> aPpLePiE\n",
    "up_and_low('spaceship') #=> sPaCeShIp\n",
    "```"
   ]
  },
  {
   "cell_type": "code",
   "execution_count": 109,
   "metadata": {},
   "outputs": [
    {
     "name": "stdout",
     "output_type": "stream",
     "text": [
      "aPpLePiE\n"
     ]
    }
   ],
   "source": [
    "# 여기에 코드를 작성하세요.\n",
    "# def up_and_low(word):\n",
    "#     up = []\n",
    "#     low = []\n",
    "#     for i in range(1, len(word), 2):\n",
    "#         up.append(word[i])\n",
    "    \n",
    "#     for j in range(0, len(word), 2):\n",
    "#         low.append(word[j])\n",
    "#     u = up.upper()\n",
    "#     l = low.lower()\n",
    "#     for p in range(len(u)):\n",
    "#         return u[p]+l[p]\n",
    "        \n",
    "# print(up_and_low('applepie'))\n",
    "\n",
    "\n",
    "def up_and_low(word):\n",
    "    up = []\n",
    "    for i in range(len(word)):\n",
    "        if i % 2 != 0:\n",
    "            up.append(word[i].upper())\n",
    "        else:\n",
    "            up.append(word[i].lower())\n",
    "    return ''.join(up)\n",
    "print(up_and_low('applepie'))"
   ]
  },
  {
   "cell_type": "code",
   "execution_count": 110,
   "metadata": {},
   "outputs": [
    {
     "name": "stdout",
     "output_type": "stream",
     "text": [
      "aPpLePiE\n"
     ]
    }
   ],
   "source": [
    "def up_and_low_2(word):\n",
    "    new_str = ''\n",
    "    for idx, w in enumerate(word):\n",
    "        if idx % 2 :\n",
    "            new_str += w.upper()\n",
    "        else:\n",
    "            new_str += w.lower()\n",
    "    return new_str\n",
    "\n",
    "print(up_and_low_2('applepie'))"
   ]
  },
  {
   "cell_type": "code",
   "execution_count": 149,
   "metadata": {},
   "outputs": [
    {
     "name": "stdout",
     "output_type": "stream",
     "text": [
      "aPpLePiE\n"
     ]
    }
   ],
   "source": [
    "def up_and_low_3(word):\n",
    "    new_str = [w.upper() if idx % 2 else w.lower() \n",
    "                   for idx, w in enumerate(word)]\n",
    "    return ''.join(new_str)\n",
    "print(up_and_low_3('applepie'))"
   ]
  },
  {
   "cell_type": "code",
   "execution_count": 44,
   "metadata": {},
   "outputs": [
    {
     "name": "stdout",
     "output_type": "stream",
     "text": [
      "[0, 2, 4, 6]\n"
     ]
    },
    {
     "ename": "AttributeError",
     "evalue": "'list' object has no attribute 'upper'",
     "output_type": "error",
     "traceback": [
      "\u001b[1;31m---------------------------------------------------------------------------\u001b[0m",
      "\u001b[1;31mAttributeError\u001b[0m                            Traceback (most recent call last)",
      "\u001b[1;32m<ipython-input-44-75ee5b4a0476>\u001b[0m in \u001b[0;36m<module>\u001b[1;34m\u001b[0m\n\u001b[0;32m      5\u001b[0m \u001b[0ma\u001b[0m\u001b[1;33m.\u001b[0m\u001b[0mupper\u001b[0m\u001b[1;33m(\u001b[0m\u001b[1;33m)\u001b[0m\u001b[1;33m\u001b[0m\u001b[1;33m\u001b[0m\u001b[0m\n\u001b[0;32m      6\u001b[0m \u001b[0mc\u001b[0m \u001b[1;33m=\u001b[0m \u001b[1;33m[\u001b[0m\u001b[1;34m'a'\u001b[0m\u001b[1;33m,\u001b[0m \u001b[1;34m'b'\u001b[0m\u001b[1;33m]\u001b[0m\u001b[1;33m\u001b[0m\u001b[1;33m\u001b[0m\u001b[0m\n\u001b[1;32m----> 7\u001b[1;33m \u001b[0mc\u001b[0m\u001b[1;33m.\u001b[0m\u001b[0mupper\u001b[0m\u001b[1;33m(\u001b[0m\u001b[1;33m)\u001b[0m\u001b[1;33m\u001b[0m\u001b[1;33m\u001b[0m\u001b[0m\n\u001b[0m",
      "\u001b[1;31mAttributeError\u001b[0m: 'list' object has no attribute 'upper'"
     ]
    }
   ],
   "source": [
    "a = 'applepie'\n",
    "b = []\n",
    "print(list(range(0, len(a), 2)))\n",
    "b.append(a[1])\n",
    "a.upper()\n",
    "c = ['a', 'b']\n",
    "c.upper()"
   ]
  },
  {
   "cell_type": "code",
   "execution_count": 65,
   "metadata": {},
   "outputs": [
    {
     "name": "stdout",
     "output_type": "stream",
     "text": [
      "ApPlEpIe\n",
      "SpAcEsHiP\n"
     ]
    }
   ],
   "source": [
    "# 해당 코드를 통해 올바른 결과가 나오는지 확인하세요.\n",
    "print(up_and_low('applepie'))\n",
    "print(up_and_low('spaceship'))"
   ]
  },
  {
   "cell_type": "markdown",
   "metadata": {},
   "source": [
    "# 숫자 패턴\n",
    "\n",
    "> 원하는 행까지 아래의 패턴을 생성하는 함수 `pattern`를 작성하세요. 만약 인자가 0이나 음의 정수인 경우 \"\" 즉, 빈 문자열로 반환하세요. 짝수가 인수로 전달되면 패턴은 통과된 짝수보다 작은 최대 홀수까지 계속되어야 합니다.\n",
    "\n",
    "예시)\n",
    "\n",
    "```python\n",
    "pattern(9)\n",
    "\n",
    "1\n",
    "333\n",
    "55555\n",
    "7777777\n",
    "999999999\n",
    "\n",
    "pattern(6)\n",
    "\n",
    "1\n",
    "333\n",
    "55555\n",
    "```\n",
    "\n",
    "주의)\n",
    "\n",
    "- 패턴에 공백은 없습니다.\n",
    "- 함수 내부에서 `print()`를 사용하는 것이 아니라, 하나의 문자열을 `return`하여서 출력하여야 합니다."
   ]
  },
  {
   "cell_type": "code",
   "execution_count": 157,
   "metadata": {},
   "outputs": [
    {
     "name": "stdout",
     "output_type": "stream",
     "text": [
      "1\n",
      "333\n",
      "55555\n",
      "1\n",
      "333\n",
      "55555\n",
      "7777777\n",
      "999999999\n"
     ]
    }
   ],
   "source": [
    "# 여기에 코드를 작성하세요.\n",
    "def pattern(n):\n",
    "        r = [str(x)*x for x in range(1, n+1) if x%2]\n",
    "        return '\\n'.join(r)    \n",
    "            \n",
    "def pattern_3(n):\n",
    "        r = [str(x)*x for x in range(1, n+1, 2)]\n",
    "        return '\\n'.join(r)         \n",
    "#     if n <= 0:\n",
    "#         return \" \"\n",
    "#     elif n%2 ==0:\n",
    "#         for i in range(n-1):\n",
    "#             pat_list.append(n)\n",
    "#         return pat_list\n",
    "#     else:\n",
    "#         for i in range(n-)\n",
    "print(pattern(6))\n",
    "print(pattern_3(9))"
   ]
  },
  {
   "cell_type": "code",
   "execution_count": null,
   "metadata": {},
   "outputs": [],
   "source": [
    "def pattern(n):\n",
    "    Ans = ''\n",
    "    for i in range(1, n+1)"
   ]
  },
  {
   "cell_type": "code",
   "execution_count": 151,
   "metadata": {},
   "outputs": [
    {
     "name": "stdout",
     "output_type": "stream",
     "text": [
      "1\n",
      "333\n",
      "55555\n",
      "7777777\n",
      "999999999\n",
      "1111111111111111111111\n",
      "13131313131313131313131313\n",
      "151515151515151515151515151515\n"
     ]
    }
   ],
   "source": [
    "def pattern_2(n):\n",
    "    string = ''\n",
    "    a = n\n",
    "    if a % 2 == 0:\n",
    "        a -= 1\n",
    "    for x in range(1, a+1):\n",
    "        if x %2 != 0:\n",
    "            string += str(x) * x\n",
    "            if x != a:\n",
    "                string += '\\n'\n",
    "    return string\n",
    "    \n",
    "print(pattern_2(15))"
   ]
  },
  {
   "cell_type": "code",
   "execution_count": 124,
   "metadata": {},
   "outputs": [
    {
     "name": "stdout",
     "output_type": "stream",
     "text": [
      "1\n",
      "33\n"
     ]
    },
    {
     "data": {
      "text/plain": [
       "range(1, 1)"
      ]
     },
     "execution_count": 124,
     "metadata": {},
     "output_type": "execute_result"
    }
   ],
   "source": [
    "print(1)\n",
    "print(33)\n",
    "range(1, 1)"
   ]
  },
  {
   "cell_type": "code",
   "execution_count": null,
   "metadata": {},
   "outputs": [],
   "source": [
    "# 해당 코드를 통해 올바른 결과가 나오는지 확인하세요.\n",
    "print(pattern(9))\n",
    "print(pattern(6))"
   ]
  },
  {
   "cell_type": "markdown",
   "metadata": {},
   "source": [
    "# 무엇이 중복일까\n",
    "\n",
    "> 중복된 요소만 뽑아서 출력하는 `duplicated` 함수를 작성하시오.\n",
    "\n",
    "예시)\n",
    "\n",
    "```python\n",
    "duplicated(['a', 'b', 'c', 'b', 'd', 'm', 'n', 'n', 'b']) #=> ['b', 'n']\n",
    "```"
   ]
  },
  {
   "cell_type": "code",
   "execution_count": 171,
   "metadata": {},
   "outputs": [
    {
     "name": "stdout",
     "output_type": "stream",
     "text": [
      "['b', 'n']\n",
      "['n', 'b']\n"
     ]
    }
   ],
   "source": [
    "# 여기에 코드를 작성하세요.\n",
    "def duplicated(some_list):\n",
    "    duplicates = []\n",
    "    for value in some_list:\n",
    "        if some_list.count(value) > 1:\n",
    "            if value not in duplicates:\n",
    "                duplicates.append(value)\n",
    "    return duplicates\n",
    "\n",
    "def duplicated_2(some_list):\n",
    "    result = []\n",
    "    while some_list:\n",
    "        dup = some_list.pop()\n",
    "        if dup in some_list and dup not in result:\n",
    "            result.append(dup)\n",
    "    return result\n",
    "print(duplicated_2(['a', 'b', 'c', 'b', 'd', 'm', 'n', 'n', 'b']))\n",
    "\n",
    "def duplicated_3(some_list):\n",
    "    no_duplicate = list(set(some_list))\n",
    "    for i in no_duplicate:\n",
    "        some_list.remove(i)\n",
    "    return list(set(some_list))\n",
    "print(duplicated_3(['a', 'b', 'c', 'b', 'd', 'm', 'n', 'n', 'b']))"
   ]
  },
  {
   "cell_type": "code",
   "execution_count": 168,
   "metadata": {},
   "outputs": [
    {
     "name": "stdout",
     "output_type": "stream",
     "text": [
      "['b', 'n']\n"
     ]
    }
   ],
   "source": [
    "# 해당 코드를 통해 올바른 결과가 나오는지 확인하세요.\n",
    "print(duplicated(['a', 'b', 'c', 'b', 'd', 'm', 'n', 'n', 'b']))"
   ]
  },
  {
   "cell_type": "code",
   "execution_count": 170,
   "metadata": {},
   "outputs": [
    {
     "name": "stdout",
     "output_type": "stream",
     "text": [
      "['n', 'b']\n"
     ]
    }
   ],
   "source": [
    "def duplicated_4(some_list):\n",
    "    return list({c for c in some_list if some_list.count(c) > 1})\n",
    "\n",
    "#     list({x})  세트를 리스트로 형변환해요.\n",
    "#     [{x}]     리스트 안에 세트를 담아요.\n",
    "\n",
    "\n",
    "print(duplicated_4(['a', 'b', 'c', 'b', 'd', 'm', 'n', 'n', 'b']))"
   ]
  }
 ],
 "metadata": {
  "kernelspec": {
   "display_name": "Python 3",
   "language": "python",
   "name": "python3"
  },
  "language_info": {
   "codemirror_mode": {
    "name": "ipython",
    "version": 3
   },
   "file_extension": ".py",
   "mimetype": "text/x-python",
   "name": "python",
   "nbconvert_exporter": "python",
   "pygments_lexer": "ipython3",
   "version": "3.6.7"
  },
  "toc": {
   "base_numbering": 1,
   "nav_menu": {},
   "number_sections": true,
   "sideBar": true,
   "skip_h1_title": false,
   "title_cell": "Table of Contents",
   "title_sidebar": "Contents",
   "toc_cell": false,
   "toc_position": {},
   "toc_section_display": true,
   "toc_window_display": false
  }
 },
 "nbformat": 4,
 "nbformat_minor": 2
}
